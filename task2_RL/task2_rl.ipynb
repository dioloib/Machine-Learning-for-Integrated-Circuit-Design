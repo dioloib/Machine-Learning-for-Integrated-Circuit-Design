{
 "cells": [
  {
   "cell_type": "code",
   "execution_count": 2,
   "metadata": {},
   "outputs": [],
   "source": [
    "import numpy as np\n",
    "import torch\n",
    "import torch.nn as nn\n",
    "from tqdm import tqdm, trange\n",
    "import pickle\n",
    "import numpy as np\n",
    "import os\n",
    "import torch\n",
    "import torch.nn.functional as F\n",
    "from torch_geometric.nn import GCNConv, global_mean_pool\n",
    "from rich.progress import track\n",
    "from tqdm import tqdm, trange\n",
    "# from torch.utils.data import DataLoader, Dataset\n",
    "from torch_geometric.data import Data, Dataset\n",
    "from torch_geometric.loader import DataLoader\n",
    "# from torch.utils import tensorboard\n",
    "import tensorboardX\n",
    "import random\n",
    "from matplotlib import pyplot as plt"
   ]
  },
  {
   "cell_type": "code",
   "execution_count": 3,
   "metadata": {},
   "outputs": [],
   "source": [
    "class ReplayBuffer(Dataset):\n",
    "    def __init__(self, data):\n",
    "        self.data = data\n",
    "        self.length = len(data)\n",
    "    \n",
    "    def __len__(self):\n",
    "        return self.length\n",
    "    \n",
    "    def __getitem__(self, idx):\n",
    "        return self.data[idx]"
   ]
  },
  {
   "cell_type": "code",
   "execution_count": 4,
   "metadata": {},
   "outputs": [],
   "source": [
    "from torch_geometric.nn.models import GraphSAGE\n",
    "\n",
    "class GraphSAGE_(torch.nn.Module):\n",
    "    def __init__(self, in_channels, hidden_channels, out_channels, dropout, num_layers):\n",
    "        super(GraphSAGE_, self).__init__()\n",
    "        self.sage = GraphSAGE(in_channels=in_channels, hidden_channels=hidden_channels, out_channels=hidden_channels, dropout=dropout, num_layers=num_layers)\n",
    "        self.fc = torch.nn.Linear(hidden_channels, out_channels)\n",
    "        \n",
    "    def forward(self, x, edge_index, batch):\n",
    "        x = self.sage(x, edge_index)\n",
    "        x = global_mean_pool(x, batch)\n",
    "        # x = self.fc(x)\n",
    "        return x"
   ]
  },
  {
   "cell_type": "code",
   "execution_count": 5,
   "metadata": {},
   "outputs": [
    {
     "data": {
      "text/plain": [
       "GraphSAGE_(\n",
       "  (sage): GraphSAGE(-1, 128, num_layers=8)\n",
       "  (fc): Linear(in_features=128, out_features=1, bias=True)\n",
       ")"
      ]
     },
     "execution_count": 5,
     "metadata": {},
     "output_type": "execute_result"
    }
   ],
   "source": [
    "state_encoder = torch.load('sage128.pth')\n",
    "state_encoder.eval()"
   ]
  },
  {
   "cell_type": "code",
   "execution_count": 6,
   "metadata": {},
   "outputs": [
    {
     "data": {
      "text/plain": [
       "{'input': ['adder_',\n",
       "  'adder_4',\n",
       "  'adder_42',\n",
       "  'adder_423',\n",
       "  'adder_4234',\n",
       "  'adder_42345',\n",
       "  'adder_423455',\n",
       "  'adder_4234552',\n",
       "  'adder_42345526',\n",
       "  'adder_423455260',\n",
       "  'adder_4234552604'],\n",
       " 'target': [0.02755838064327021,\n",
       "  0.00795755516894936,\n",
       "  0.00795755516894936,\n",
       "  0.0,\n",
       "  0.0,\n",
       "  0.0,\n",
       "  0.0,\n",
       "  0.0,\n",
       "  0.0,\n",
       "  0.0,\n",
       "  0.0]}"
      ]
     },
     "execution_count": 6,
     "metadata": {},
     "output_type": "execute_result"
    }
   ],
   "source": [
    "pickle.load(open('project\\\\task2\\\\project_data2\\\\adder_0.pkl', 'rb'))"
   ]
  },
  {
   "cell_type": "code",
   "execution_count": 7,
   "metadata": {},
   "outputs": [],
   "source": [
    "ratio = 4\n",
    "class PolicyNet(nn.Module):\n",
    "    def __init__(self, in_dim, out_dim) -> None:\n",
    "        super().__init__()\n",
    "        \n",
    "        self.fc1 = nn.Linear(in_dim, ratio * in_dim)\n",
    "        self.fc2 = nn.Linear(ratio * in_dim, ratio * in_dim)\n",
    "        self.fc3 = nn.Linear(ratio * in_dim, in_dim)\n",
    "        self.fc4 = nn.Linear(in_dim, out_dim)\n",
    "        \n",
    "    def forward(self, x):\n",
    "        x = F.relu(self.fc1(x))\n",
    "        x = F.relu(self.fc2(x))\n",
    "        x = F.relu(self.fc3(x))\n",
    "        x = self.fc4(x)\n",
    "        return F.softmax(x, dim=1)\n",
    "\n",
    "class ValueNet(nn.Module):\n",
    "    def __init__(self, in_dim, out_dim) -> None:\n",
    "        super().__init__()\n",
    "        \n",
    "        self.fc1 = nn.Linear(in_dim, ratio * in_dim)\n",
    "        self.fc2 = nn.Linear(ratio * in_dim, ratio * in_dim)\n",
    "        self.fc3 = nn.Linear(ratio * in_dim, in_dim)\n",
    "        self.fc4 = nn.Linear(in_dim, out_dim)\n",
    "        \n",
    "    def forward(self, x):\n",
    "        x = F.relu(self.fc1(x))\n",
    "        x = F.relu(self.fc2(x))\n",
    "        x = F.relu(self.fc3(x)) \n",
    "        x = self.fc4(x)\n",
    "        return x"
   ]
  },
  {
   "cell_type": "code",
   "execution_count": 8,
   "metadata": {},
   "outputs": [],
   "source": [
    "policy = PolicyNet(in_dim=128, out_dim=7).cuda()\n",
    "value = ValueNet(in_dim=128, out_dim=1).cuda()"
   ]
  },
  {
   "cell_type": "code",
   "execution_count": 9,
   "metadata": {},
   "outputs": [
    {
     "name": "stdout",
     "output_type": "stream",
     "text": [
      "<class 'list'>\n"
     ]
    }
   ],
   "source": [
    "replay_buffer = []\n",
    "_, _, file_list = next(os.walk('project\\\\task2\\\\project_data2'))\n",
    "print(type(file_list))\n",
    "block_size = 4000\n",
    "\n",
    "state_encoder = state_encoder.cpu()\n",
    "\n",
    "def generate_replay_buffer(idx):\n",
    "    replay_buffer = []\n",
    "    data = pickle.load(open('train_data_tensor_' + str(idx) + '.pkl', 'rb'))\n",
    "    files = file_list[idx * block_size: (idx + 1) * block_size]\n",
    "    j = -1\n",
    "    for f in tqdm(files):\n",
    "        f_data = pickle.load(open('project\\\\task2\\\\project_data2\\\\' + f, 'rb'))\n",
    "        sz = len(f_data['input'])\n",
    "        ops = f_data['input'][-1].split('_')[-1]\n",
    "        # print(ops, sz)\n",
    "        \n",
    "        assert len(ops) == sz - 1\n",
    "        \n",
    "        for i in range(1, sz):\n",
    "            # d = Data(x=data[j + i]['x'], edge_index=data[j + i]['edge_index'])\n",
    "            curState = state_encoder(x=data[j + i]['x'].float(), edge_index=data[j + i]['edge_index'], batch=None).cpu()\n",
    "            # curState = state_encoder(d.x.float().cuda(), d.edge_index.cuda(), d.batch).cpu()\n",
    "            # d = Data(x=data[j + i + 1]['x'], edge_index=data[j + i + 1]['edge_index'])\n",
    "            # nextState = state_encoder(d.x.float().cuda(), d.edge_index.cuda(), d.batch).cpu()\n",
    "            nextState = state_encoder(x=data[j + i + 1]['x'].float(), edge_index=data[j + i + 1]['edge_index'], batch=None).cpu()\n",
    "            op = ops[i - 1]\n",
    "            reward = data[j + i]['y']\n",
    "            assert curState.device == torch.device('cpu')\n",
    "            assert f_data['target'][i - 1] == reward\n",
    "            replay_buffer.append((curState, op, nextState, reward))\n",
    "            \n",
    "        j += sz\n",
    "        \n",
    "    assert len(replay_buffer) == 40000\n",
    "    return DataLoader(Dataset(replay_buffer), batch_size=16, shuffle=True)"
   ]
  },
  {
   "cell_type": "code",
   "execution_count": 10,
   "metadata": {},
   "outputs": [],
   "source": [
    "# graph, target\n",
    "dataset_list = np.array([0, 1, 2, 5, 6, 7, 8, 9, 10, 11, 12, 13, 16, 17])"
   ]
  },
  {
   "cell_type": "code",
   "execution_count": 11,
   "metadata": {},
   "outputs": [
    {
     "name": "stderr",
     "output_type": "stream",
     "text": [
      " 11%|█▏        | 450/4000 [03:23<26:43,  2.21it/s]  \n"
     ]
    }
   ],
   "source": [
    "optimizer1 = torch.optim.AdamW(policy.parameters(), lr=0.001, weight_decay=1e-5)\n",
    "optimizer2 = torch.optim.AdamW(value.parameters(), lr=0.001, weight_decay=1e-5)\n",
    "loss1 = []\n",
    "loss2 = []\n",
    "for idx in dataset_list:\n",
    "    dataloader = generate_replay_buffer(idx)\n",
    "    for i, (curState, op, nextState, reward) in enumerate(tqdm(dataloader)):\n",
    "        optimizer1.zero_grad()\n",
    "        optimizer2.zero_grad()\n",
    "        curValue = value(curState.cuda())\n",
    "        nextValue = value(nextState.cuda())\n",
    "        op_ = policy(curState.cuda())\n",
    "        y = nextValue + reward\n",
    "        td_error = y - curValue\n",
    "        policy_loss = F.cross_entropy(op_, op.cuda()) * td_error\n",
    "        value_loss = td_error * curValue\n",
    "        policy_loss.backward()\n",
    "        optimizer1.step()\n",
    "        value_loss.backward()\n",
    "        optimizer2.step()\n",
    "        if i % 100 == 99:\n",
    "            loss1.append(policy_loss.item())\n",
    "            loss2.append(value_loss.item())\n",
    "plt.plot(loss1)\n",
    "plt.plot(loss2)\n",
    "plt.show()"
   ]
  }
 ],
 "metadata": {
  "kernelspec": {
   "display_name": "nlp",
   "language": "python",
   "name": "python3"
  },
  "language_info": {
   "codemirror_mode": {
    "name": "ipython",
    "version": 3
   },
   "file_extension": ".py",
   "mimetype": "text/x-python",
   "name": "python",
   "nbconvert_exporter": "python",
   "pygments_lexer": "ipython3",
   "version": "3.10.14"
  }
 },
 "nbformat": 4,
 "nbformat_minor": 2
}
